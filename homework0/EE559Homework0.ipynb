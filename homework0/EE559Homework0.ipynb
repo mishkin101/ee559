{
 "cells": [
  {
   "cell_type": "markdown",
   "metadata": {},
   "source": [
    "<center><h1>INF-552 Lab 0</h1></center>\n",
    "<br>\n",
    "<center><font size=\"4\">Introduction to Basic Development Tools</font></center>"
   ]
  },
  {
   "cell_type": "markdown",
   "metadata": {},
   "source": [
    "### Rules"
   ]
  },
  {
   "cell_type": "markdown",
   "metadata": {},
   "source": [
    "1. Please read the instructions and problem prompts **carefully**.\n",
    "2. This lab is to give you some basic APIs of numpy, pandas and scikit-learn. Besides, some topics such as how to make your jupyter notebook be a more efficient developing tools, how to use git and GitHub will also be covered. The lab is to be done individually. You may talk to your fellow classmates about general issues (\"Remind me again: Which API should I used for doing group by operation to a data set\") but about the specifies of how to do these exercises.\n",
    "3. Along with a similar vein, you can ask the TA for help, but ask questions about **concepts** but not ask the TA to help you debug your code. The TA is here to help, but not to do the work for you.\n",
    "4. You are welcome to use the class resources and the Internet.\n",
    "5. Playing with variations. Solve one problems, and then copy the code to a new cell and play around with it. Doing this is the single most important thing when learning programming.\n",
    "6. This lab will not be graded but the content is highly related to your future programming assignments. So, treat it wisely.\n",
    "7. All the content having been gone though in the week 1 discussion is just a snapshot of the most basic concepts. **You need to keep study more about Git, GitHub, Pandas, Numpy and Scikit-Learn in order to finish your programming assignments successfully.**\n",
    "8. Have fun!"
   ]
  },
  {
   "cell_type": "markdown",
   "metadata": {},
   "source": [
    "### Setup Development Environment"
   ]
  },
  {
   "cell_type": "markdown",
   "metadata": {},
   "source": [
    "There are many ways to setup the environment. But, I do recommend a simple idea that is using the Anaconda, which is a pre-build python environment with bundles of useful packages.\n",
    "\n",
    "**To download the Anaconda, go to the following website:\n",
    "https://www.anaconda.com/distribution/**. Download the correct version based on your operating system and install it step by step.\n",
    "\n",
    "Then, **configure your PATH environment variable** to make the conda command work. The following command is an easy way to test whether your configuration is correct. If it is, you will see something as like as the sample output.\n",
    "\n",
    "> **command:**\n",
    ">\n",
    "> conda --version\n",
    ">\n",
    "> **sample output:**\n",
    ">\n",
    "> conda 4.6.12\n",
    "\n",
    "**Finally, download this jupyter notebook file,** then change the working directory to where its location in terminal, and type the following command to open the jupter notebook and finish the lab.\n",
    "\n",
    "> **command:** \n",
    "> jupyter notebook"
   ]
  },
  {
   "cell_type": "code",
   "execution_count": 8,
   "metadata": {
    "ExecuteTime": {
     "end_time": "2020-01-14T19:44:42.243800Z",
     "start_time": "2020-01-14T19:44:41.609555Z"
    }
   },
   "outputs": [],
   "source": [
    "import pandas as pd\n",
    "import numpy as np\n",
    "from IPython.display import display"
   ]
  },
  {
   "cell_type": "markdown",
   "metadata": {},
   "source": [
    "### Pandas"
   ]
  },
  {
   "cell_type": "markdown",
   "metadata": {},
   "source": [
    "#### The read_csv() Method"
   ]
  },
  {
   "cell_type": "markdown",
   "metadata": {},
   "source": [
    "First, read the documentation about the *read_csv()* method in Pandas (https://pandas.pydata.org/pandas-docs/stable/reference/api/pandas.read_csv.html). Then, try to read data from file Salaries.csv to a dataframe, make the column playerID in the csv file as the index column and the first row as the header. Also, skip the second row when reading the file."
   ]
  },
  {
   "cell_type": "code",
   "execution_count": 12,
   "metadata": {
    "ExecuteTime": {
     "end_time": "2019-08-28T03:51:17.953542Z",
     "start_time": "2019-08-28T03:51:17.937799Z"
    }
   },
   "outputs": [
    {
     "data": {
      "application/vnd.microsoft.datawrangler.viewer.v0+json": {
       "columns": [
        {
         "name": "playerID",
         "rawType": "object",
         "type": "string"
        },
        {
         "name": "yearID",
         "rawType": "int64",
         "type": "integer"
        },
        {
         "name": "teamID",
         "rawType": "object",
         "type": "string"
        },
        {
         "name": "lgID",
         "rawType": "object",
         "type": "string"
        },
        {
         "name": "salary",
         "rawType": "int64",
         "type": "integer"
        }
       ],
       "ref": "5cff57ac-a0d7-4899-8a66-9d97872059bf",
       "rows": [
        [
         "bedrost01",
         "1985",
         "ATL",
         "NL",
         "550000"
        ],
        [
         "benedbr01",
         "1985",
         "ATL",
         "NL",
         "545000"
        ],
        [
         "campri01",
         "1985",
         "ATL",
         "NL",
         "633333"
        ],
        [
         "ceronri01",
         "1985",
         "ATL",
         "NL",
         "625000"
        ],
        [
         "chambch01",
         "1985",
         "ATL",
         "NL",
         "800000"
        ],
        [
         "dedmoje01",
         "1985",
         "ATL",
         "NL",
         "150000"
        ],
        [
         "forstte01",
         "1985",
         "ATL",
         "NL",
         "483333"
        ],
        [
         "garbege01",
         "1985",
         "ATL",
         "NL",
         "772000"
        ],
        [
         "harpete01",
         "1985",
         "ATL",
         "NL",
         "250000"
        ],
        [
         "hornebo01",
         "1985",
         "ATL",
         "NL",
         "1500000"
        ],
        [
         "hubbagl01",
         "1985",
         "ATL",
         "NL",
         "455000"
        ],
        [
         "mahleri01",
         "1985",
         "ATL",
         "NL",
         "407500"
        ],
        [
         "mcmurcr01",
         "1985",
         "ATL",
         "NL",
         "275000"
        ],
        [
         "mumphje01",
         "1985",
         "ATL",
         "NL",
         "775000"
        ],
        [
         "murphda05",
         "1985",
         "ATL",
         "NL",
         "1625000"
        ],
        [
         "oberkke01",
         "1985",
         "ATL",
         "NL",
         "616667"
        ],
        [
         "perezpa01",
         "1985",
         "ATL",
         "NL",
         "450000"
        ],
        [
         "perryge01",
         "1985",
         "ATL",
         "NL",
         "120000"
        ],
        [
         "ramirra01",
         "1985",
         "ATL",
         "NL",
         "750000"
        ],
        [
         "suttebr01",
         "1985",
         "ATL",
         "NL",
         "1354167"
        ],
        [
         "washicl01",
         "1985",
         "ATL",
         "NL",
         "800000"
        ],
        [
         "boddimi01",
         "1985",
         "BAL",
         "AL",
         "625000"
        ],
        [
         "dauerri01",
         "1985",
         "BAL",
         "AL",
         "480000"
        ],
        [
         "davisst02",
         "1985",
         "BAL",
         "AL",
         "437500"
        ],
        [
         "dempsri01",
         "1985",
         "BAL",
         "AL",
         "512500"
        ],
        [
         "dwyerji01",
         "1985",
         "BAL",
         "AL",
         "375000"
        ],
        [
         "flanami01",
         "1985",
         "BAL",
         "AL",
         "641667"
        ],
        [
         "fordda01",
         "1985",
         "BAL",
         "AL",
         "450000"
        ],
        [
         "grosswa01",
         "1985",
         "BAL",
         "AL",
         "483333"
        ],
        [
         "lacyle01",
         "1985",
         "BAL",
         "AL",
         "725000"
        ],
        [
         "lynnfr01",
         "1985",
         "BAL",
         "AL",
         "1090000"
        ],
        [
         "martide01",
         "1985",
         "BAL",
         "AL",
         "560000"
        ],
        [
         "martiti01",
         "1985",
         "BAL",
         "AL",
         "440000"
        ],
        [
         "mcgresc01",
         "1985",
         "BAL",
         "AL",
         "547143"
        ],
        [
         "murraed02",
         "1985",
         "BAL",
         "AL",
         "1472819"
        ],
        [
         "nolanjo01",
         "1985",
         "BAL",
         "AL",
         "341667"
        ],
        [
         "rayfofl01",
         "1985",
         "BAL",
         "AL",
         "128500"
        ],
        [
         "ripkeca01",
         "1985",
         "BAL",
         "AL",
         "800000"
        ],
        [
         "roeniga01",
         "1985",
         "BAL",
         "AL",
         "558333"
        ],
        [
         "sheetla01",
         "1985",
         "BAL",
         "AL",
         "60000"
        ],
        [
         "shelbjo01",
         "1985",
         "BAL",
         "AL",
         "130000"
        ],
        [
         "stewasa01",
         "1985",
         "BAL",
         "AL",
         "581250"
        ],
        [
         "youngmi01",
         "1985",
         "BAL",
         "AL",
         "121000"
        ],
        [
         "armasto01",
         "1985",
         "BOS",
         "AL",
         "915000"
        ],
        [
         "barrema02",
         "1985",
         "BOS",
         "AL",
         "272500"
        ],
        [
         "boggswa01",
         "1985",
         "BOS",
         "AL",
         "1000000"
        ],
        [
         "bordiri01",
         "1985",
         "BOS",
         "AL",
         "115000"
        ],
        [
         "boydoi01",
         "1985",
         "BOS",
         "AL",
         "177500"
        ],
        [
         "bucknbi01",
         "1985",
         "BOS",
         "AL",
         "747500"
        ],
        [
         "clearma01",
         "1985",
         "BOS",
         "AL",
         "580000"
        ]
       ],
       "shape": {
        "columns": 4,
        "rows": 25574
       }
      },
      "text/html": [
       "<div>\n",
       "<style scoped>\n",
       "    .dataframe tbody tr th:only-of-type {\n",
       "        vertical-align: middle;\n",
       "    }\n",
       "\n",
       "    .dataframe tbody tr th {\n",
       "        vertical-align: top;\n",
       "    }\n",
       "\n",
       "    .dataframe thead th {\n",
       "        text-align: right;\n",
       "    }\n",
       "</style>\n",
       "<table border=\"1\" class=\"dataframe\">\n",
       "  <thead>\n",
       "    <tr style=\"text-align: right;\">\n",
       "      <th></th>\n",
       "      <th>yearID</th>\n",
       "      <th>teamID</th>\n",
       "      <th>lgID</th>\n",
       "      <th>salary</th>\n",
       "    </tr>\n",
       "    <tr>\n",
       "      <th>playerID</th>\n",
       "      <th></th>\n",
       "      <th></th>\n",
       "      <th></th>\n",
       "      <th></th>\n",
       "    </tr>\n",
       "  </thead>\n",
       "  <tbody>\n",
       "    <tr>\n",
       "      <th>bedrost01</th>\n",
       "      <td>1985</td>\n",
       "      <td>ATL</td>\n",
       "      <td>NL</td>\n",
       "      <td>550000</td>\n",
       "    </tr>\n",
       "    <tr>\n",
       "      <th>benedbr01</th>\n",
       "      <td>1985</td>\n",
       "      <td>ATL</td>\n",
       "      <td>NL</td>\n",
       "      <td>545000</td>\n",
       "    </tr>\n",
       "    <tr>\n",
       "      <th>campri01</th>\n",
       "      <td>1985</td>\n",
       "      <td>ATL</td>\n",
       "      <td>NL</td>\n",
       "      <td>633333</td>\n",
       "    </tr>\n",
       "    <tr>\n",
       "      <th>ceronri01</th>\n",
       "      <td>1985</td>\n",
       "      <td>ATL</td>\n",
       "      <td>NL</td>\n",
       "      <td>625000</td>\n",
       "    </tr>\n",
       "    <tr>\n",
       "      <th>chambch01</th>\n",
       "      <td>1985</td>\n",
       "      <td>ATL</td>\n",
       "      <td>NL</td>\n",
       "      <td>800000</td>\n",
       "    </tr>\n",
       "    <tr>\n",
       "      <th>...</th>\n",
       "      <td>...</td>\n",
       "      <td>...</td>\n",
       "      <td>...</td>\n",
       "      <td>...</td>\n",
       "    </tr>\n",
       "    <tr>\n",
       "      <th>treinbl01</th>\n",
       "      <td>2015</td>\n",
       "      <td>WAS</td>\n",
       "      <td>NL</td>\n",
       "      <td>512800</td>\n",
       "    </tr>\n",
       "    <tr>\n",
       "      <th>ugglada01</th>\n",
       "      <td>2015</td>\n",
       "      <td>WAS</td>\n",
       "      <td>NL</td>\n",
       "      <td>507500</td>\n",
       "    </tr>\n",
       "    <tr>\n",
       "      <th>werthja01</th>\n",
       "      <td>2015</td>\n",
       "      <td>WAS</td>\n",
       "      <td>NL</td>\n",
       "      <td>21000000</td>\n",
       "    </tr>\n",
       "    <tr>\n",
       "      <th>zimmejo02</th>\n",
       "      <td>2015</td>\n",
       "      <td>WAS</td>\n",
       "      <td>NL</td>\n",
       "      <td>16500000</td>\n",
       "    </tr>\n",
       "    <tr>\n",
       "      <th>zimmery01</th>\n",
       "      <td>2015</td>\n",
       "      <td>WAS</td>\n",
       "      <td>NL</td>\n",
       "      <td>14000000</td>\n",
       "    </tr>\n",
       "  </tbody>\n",
       "</table>\n",
       "<p>25574 rows × 4 columns</p>\n",
       "</div>"
      ],
      "text/plain": [
       "           yearID teamID lgID    salary\n",
       "playerID                               \n",
       "bedrost01    1985    ATL   NL    550000\n",
       "benedbr01    1985    ATL   NL    545000\n",
       "campri01     1985    ATL   NL    633333\n",
       "ceronri01    1985    ATL   NL    625000\n",
       "chambch01    1985    ATL   NL    800000\n",
       "...           ...    ...  ...       ...\n",
       "treinbl01    2015    WAS   NL    512800\n",
       "ugglada01    2015    WAS   NL    507500\n",
       "werthja01    2015    WAS   NL  21000000\n",
       "zimmejo02    2015    WAS   NL  16500000\n",
       "zimmery01    2015    WAS   NL  14000000\n",
       "\n",
       "[25574 rows x 4 columns]"
      ]
     },
     "metadata": {},
     "output_type": "display_data"
    }
   ],
   "source": [
    "# Loaded variable 'df' from URI: /Users/mishkin/Downloads/Salaries.csv\n",
    "df = pd.read_csv('Salaries.csv',index_col='playerID',skiprows=[1])\n",
    "display(df)"
   ]
  },
  {
   "cell_type": "markdown",
   "metadata": {},
   "source": [
    "#### Indexing and Selecting Data"
   ]
  },
  {
   "cell_type": "markdown",
   "metadata": {},
   "source": [
    "Select the id of the players who are registered in ATL and HOU and whose salary is higher than one million."
   ]
  },
  {
   "cell_type": "code",
   "execution_count": 16,
   "metadata": {
    "ExecuteTime": {
     "end_time": "2019-08-28T03:51:24.015061Z",
     "start_time": "2019-08-28T03:51:23.982621Z"
    }
   },
   "outputs": [
    {
     "data": {
      "application/vnd.microsoft.datawrangler.viewer.v0+json": {
       "columns": [
        {
         "name": "playerID",
         "rawType": "object",
         "type": "string"
        },
        {
         "name": "yearID",
         "rawType": "int64",
         "type": "integer"
        },
        {
         "name": "teamID",
         "rawType": "object",
         "type": "string"
        },
        {
         "name": "lgID",
         "rawType": "object",
         "type": "string"
        },
        {
         "name": "salary",
         "rawType": "int64",
         "type": "integer"
        }
       ],
       "ref": "17eae16c-b911-4a8e-b36b-3068a59f8ddd",
       "rows": [
        [
         "hornebo01",
         "1985",
         "ATL",
         "NL",
         "1500000"
        ],
        [
         "hornebo01",
         "1986",
         "ATL",
         "NL",
         "1800000"
        ],
        [
         "hornebo01",
         "1988",
         "SLN",
         "NL",
         "950000"
        ],
        [
         "murphda05",
         "1985",
         "ATL",
         "NL",
         "1625000"
        ],
        [
         "murphda05",
         "1986",
         "ATL",
         "NL",
         "1825000"
        ],
        [
         "murphda05",
         "1987",
         "ATL",
         "NL",
         "1925000"
        ],
        [
         "murphda05",
         "1988",
         "ATL",
         "NL",
         "2000000"
        ],
        [
         "murphda05",
         "1989",
         "ATL",
         "NL",
         "2000000"
        ],
        [
         "murphda05",
         "1990",
         "ATL",
         "NL",
         "2000000"
        ],
        [
         "murphda05",
         "1991",
         "PHI",
         "NL",
         "2500000"
        ],
        [
         "murphda05",
         "1992",
         "PHI",
         "NL",
         "2500000"
        ],
        [
         "murphda05",
         "1993",
         "COL",
         "NL",
         "200000"
        ],
        [
         "suttebr01",
         "1985",
         "ATL",
         "NL",
         "1354167"
        ],
        [
         "suttebr01",
         "1986",
         "ATL",
         "NL",
         "1729167"
        ],
        [
         "suttebr01",
         "1987",
         "ATL",
         "NL",
         "1729167"
        ],
        [
         "suttebr01",
         "1988",
         "ATL",
         "NL",
         "1729167"
        ],
        [
         "suttebr01",
         "1989",
         "ATL",
         "NL",
         "1729167"
        ],
        [
         "suttebr01",
         "1990",
         "ATL",
         "NL",
         "1729167"
        ],
        [
         "ryanno01",
         "1985",
         "HOU",
         "NL",
         "1350000"
        ],
        [
         "ryanno01",
         "1986",
         "HOU",
         "NL",
         "1125000"
        ],
        [
         "ryanno01",
         "1987",
         "HOU",
         "NL",
         "1225000"
        ],
        [
         "ryanno01",
         "1988",
         "HOU",
         "NL",
         "1000000"
        ],
        [
         "ryanno01",
         "1989",
         "TEX",
         "AL",
         "1800000"
        ],
        [
         "ryanno01",
         "1990",
         "TEX",
         "AL",
         "1400000"
        ],
        [
         "ryanno01",
         "1991",
         "TEX",
         "AL",
         "3300000"
        ],
        [
         "ryanno01",
         "1992",
         "TEX",
         "AL",
         "4200000"
        ],
        [
         "ryanno01",
         "1993",
         "TEX",
         "AL",
         "3757000"
        ],
        [
         "hornebo01",
         "1985",
         "ATL",
         "NL",
         "1500000"
        ],
        [
         "hornebo01",
         "1986",
         "ATL",
         "NL",
         "1800000"
        ],
        [
         "hornebo01",
         "1988",
         "SLN",
         "NL",
         "950000"
        ],
        [
         "murphda05",
         "1985",
         "ATL",
         "NL",
         "1625000"
        ],
        [
         "murphda05",
         "1986",
         "ATL",
         "NL",
         "1825000"
        ],
        [
         "murphda05",
         "1987",
         "ATL",
         "NL",
         "1925000"
        ],
        [
         "murphda05",
         "1988",
         "ATL",
         "NL",
         "2000000"
        ],
        [
         "murphda05",
         "1989",
         "ATL",
         "NL",
         "2000000"
        ],
        [
         "murphda05",
         "1990",
         "ATL",
         "NL",
         "2000000"
        ],
        [
         "murphda05",
         "1991",
         "PHI",
         "NL",
         "2500000"
        ],
        [
         "murphda05",
         "1992",
         "PHI",
         "NL",
         "2500000"
        ],
        [
         "murphda05",
         "1993",
         "COL",
         "NL",
         "200000"
        ],
        [
         "suttebr01",
         "1985",
         "ATL",
         "NL",
         "1354167"
        ],
        [
         "suttebr01",
         "1986",
         "ATL",
         "NL",
         "1729167"
        ],
        [
         "suttebr01",
         "1987",
         "ATL",
         "NL",
         "1729167"
        ],
        [
         "suttebr01",
         "1988",
         "ATL",
         "NL",
         "1729167"
        ],
        [
         "suttebr01",
         "1989",
         "ATL",
         "NL",
         "1729167"
        ],
        [
         "suttebr01",
         "1990",
         "ATL",
         "NL",
         "1729167"
        ],
        [
         "ryanno01",
         "1985",
         "HOU",
         "NL",
         "1350000"
        ],
        [
         "ryanno01",
         "1986",
         "HOU",
         "NL",
         "1125000"
        ],
        [
         "ryanno01",
         "1987",
         "HOU",
         "NL",
         "1225000"
        ],
        [
         "ryanno01",
         "1988",
         "HOU",
         "NL",
         "1000000"
        ],
        [
         "ryanno01",
         "1989",
         "TEX",
         "AL",
         "1800000"
        ]
       ],
       "shape": {
        "columns": 4,
        "rows": 7470
       }
      },
      "text/html": [
       "<div>\n",
       "<style scoped>\n",
       "    .dataframe tbody tr th:only-of-type {\n",
       "        vertical-align: middle;\n",
       "    }\n",
       "\n",
       "    .dataframe tbody tr th {\n",
       "        vertical-align: top;\n",
       "    }\n",
       "\n",
       "    .dataframe thead th {\n",
       "        text-align: right;\n",
       "    }\n",
       "</style>\n",
       "<table border=\"1\" class=\"dataframe\">\n",
       "  <thead>\n",
       "    <tr style=\"text-align: right;\">\n",
       "      <th></th>\n",
       "      <th>yearID</th>\n",
       "      <th>teamID</th>\n",
       "      <th>lgID</th>\n",
       "      <th>salary</th>\n",
       "    </tr>\n",
       "    <tr>\n",
       "      <th>playerID</th>\n",
       "      <th></th>\n",
       "      <th></th>\n",
       "      <th></th>\n",
       "      <th></th>\n",
       "    </tr>\n",
       "  </thead>\n",
       "  <tbody>\n",
       "    <tr>\n",
       "      <th>hornebo01</th>\n",
       "      <td>1985</td>\n",
       "      <td>ATL</td>\n",
       "      <td>NL</td>\n",
       "      <td>1500000</td>\n",
       "    </tr>\n",
       "    <tr>\n",
       "      <th>hornebo01</th>\n",
       "      <td>1986</td>\n",
       "      <td>ATL</td>\n",
       "      <td>NL</td>\n",
       "      <td>1800000</td>\n",
       "    </tr>\n",
       "    <tr>\n",
       "      <th>hornebo01</th>\n",
       "      <td>1988</td>\n",
       "      <td>SLN</td>\n",
       "      <td>NL</td>\n",
       "      <td>950000</td>\n",
       "    </tr>\n",
       "    <tr>\n",
       "      <th>murphda05</th>\n",
       "      <td>1985</td>\n",
       "      <td>ATL</td>\n",
       "      <td>NL</td>\n",
       "      <td>1625000</td>\n",
       "    </tr>\n",
       "    <tr>\n",
       "      <th>murphda05</th>\n",
       "      <td>1986</td>\n",
       "      <td>ATL</td>\n",
       "      <td>NL</td>\n",
       "      <td>1825000</td>\n",
       "    </tr>\n",
       "    <tr>\n",
       "      <th>...</th>\n",
       "      <td>...</td>\n",
       "      <td>...</td>\n",
       "      <td>...</td>\n",
       "      <td>...</td>\n",
       "    </tr>\n",
       "    <tr>\n",
       "      <th>valbulu01</th>\n",
       "      <td>2010</td>\n",
       "      <td>CLE</td>\n",
       "      <td>AL</td>\n",
       "      <td>414700</td>\n",
       "    </tr>\n",
       "    <tr>\n",
       "      <th>valbulu01</th>\n",
       "      <td>2012</td>\n",
       "      <td>CHN</td>\n",
       "      <td>NL</td>\n",
       "      <td>495200</td>\n",
       "    </tr>\n",
       "    <tr>\n",
       "      <th>valbulu01</th>\n",
       "      <td>2013</td>\n",
       "      <td>CHN</td>\n",
       "      <td>NL</td>\n",
       "      <td>930000</td>\n",
       "    </tr>\n",
       "    <tr>\n",
       "      <th>valbulu01</th>\n",
       "      <td>2014</td>\n",
       "      <td>CHN</td>\n",
       "      <td>NL</td>\n",
       "      <td>1710000</td>\n",
       "    </tr>\n",
       "    <tr>\n",
       "      <th>valbulu01</th>\n",
       "      <td>2015</td>\n",
       "      <td>HOU</td>\n",
       "      <td>AL</td>\n",
       "      <td>4200000</td>\n",
       "    </tr>\n",
       "  </tbody>\n",
       "</table>\n",
       "<p>7470 rows × 4 columns</p>\n",
       "</div>"
      ],
      "text/plain": [
       "           yearID teamID lgID   salary\n",
       "playerID                              \n",
       "hornebo01    1985    ATL   NL  1500000\n",
       "hornebo01    1986    ATL   NL  1800000\n",
       "hornebo01    1988    SLN   NL   950000\n",
       "murphda05    1985    ATL   NL  1625000\n",
       "murphda05    1986    ATL   NL  1825000\n",
       "...           ...    ...  ...      ...\n",
       "valbulu01    2010    CLE   AL   414700\n",
       "valbulu01    2012    CHN   NL   495200\n",
       "valbulu01    2013    CHN   NL   930000\n",
       "valbulu01    2014    CHN   NL  1710000\n",
       "valbulu01    2015    HOU   AL  4200000\n",
       "\n",
       "[7470 rows x 4 columns]"
      ]
     },
     "metadata": {},
     "output_type": "display_data"
    }
   ],
   "source": [
    "mask = df['teamID'].isin(['ATL','HOU']) & (df['salary'] > 1_000_000)\n",
    "selected_ids = df.loc[mask].index.tolist()\n",
    "display( df.loc[selected_ids] )"
   ]
  },
  {
   "cell_type": "markdown",
   "metadata": {},
   "source": [
    "#### The describe() Method"
   ]
  },
  {
   "cell_type": "markdown",
   "metadata": {},
   "source": [
    "Calculate the standard Deviation, first quartile, medium, third quartile, mean, maximum, minimum of the salary in team ATL."
   ]
  },
  {
   "cell_type": "code",
   "execution_count": 17,
   "metadata": {
    "ExecuteTime": {
     "end_time": "2019-08-28T01:46:27.395276Z",
     "start_time": "2019-08-28T01:46:27.368849Z"
    }
   },
   "outputs": [
    {
     "name": "stdout",
     "output_type": "stream",
     "text": [
      "count    8.850000e+02\n",
      "mean     2.207749e+06\n",
      "std      3.434320e+06\n",
      "min      6.000000e+04\n",
      "25%      3.000000e+05\n",
      "50%      6.000000e+05\n",
      "75%      2.400000e+06\n",
      "max      1.606180e+07\n",
      "Name: salary, dtype: float64\n"
     ]
    }
   ],
   "source": [
    "#find the ATL players\n",
    "atl_salaries = df.loc[df['teamID'] == 'ATL', 'salary']\n",
    "desc = atl_salaries.describe()\n",
    "print(desc)"
   ]
  },
  {
   "cell_type": "markdown",
   "metadata": {},
   "source": [
    "#### The iterrows() Method"
   ]
  },
  {
   "cell_type": "markdown",
   "metadata": {},
   "source": [
    "Create a Python dictionary object whose keys are the headers of the dataframe created in the read_csv() exercise and values are Python list objects that contain data corresponding to the headers. (Here, use the iterrows method to iterate each row of the dataframe and copy it to a dictionary. However, there is a easier way. Learn how the to_dict() method works by yourself later)"
   ]
  },
  {
   "cell_type": "code",
   "execution_count": 19,
   "metadata": {
    "ExecuteTime": {
     "end_time": "2019-08-28T03:51:38.476575Z",
     "start_time": "2019-08-28T03:51:36.568044Z"
    }
   },
   "outputs": [
    {
     "name": "stdout",
     "output_type": "stream",
     "text": [
      "Data Dictionary:\n",
      "yearID: [1985, 1985, 1985, 1985, 1985]...\n",
      "teamID: ['ATL', 'ATL', 'ATL', 'ATL', 'ATL']...\n",
      "lgID: ['NL', 'NL', 'NL', 'NL', 'NL']...\n",
      "salary: [550000, 545000, 633333, 625000, 800000]...\n"
     ]
    }
   ],
   "source": [
    "data_dict = {col: [] for col in df.columns}\n",
    "for idx, row in df.iterrows():\n",
    "    for col in df.columns:\n",
    "        data_dict[col].append(row[col])\n",
    "\n",
    "print(\"Data Dictionary:\")\n",
    "for key, value in data_dict.items():\n",
    "    print(f\"{key}: {value[:5]}...\")  # Display first 5 entries for brevity"
   ]
  },
  {
   "cell_type": "markdown",
   "metadata": {},
   "source": [
    "#### Create Dataframe Using the Constructor"
   ]
  },
  {
   "cell_type": "markdown",
   "metadata": {
    "ExecuteTime": {
     "end_time": "2019-08-24T15:53:45.113577Z",
     "start_time": "2019-08-24T15:53:45.110554Z"
    }
   },
   "source": [
    "Read the documentation: https://pandas.pydata.org/pandas-docs/stable/reference/api/pandas.DataFrame.html#pandas.DataFrame and create a dataframe using pd.DataFrame from the dictionary created in the iterrows() exercise. Change the header to \"a\", \"b\", \"c\", ... at creation time."
   ]
  },
  {
   "cell_type": "code",
   "execution_count": 33,
   "metadata": {
    "ExecuteTime": {
     "end_time": "2019-08-28T03:53:06.129037Z",
     "start_time": "2019-08-28T03:53:06.074438Z"
    }
   },
   "outputs": [
    {
     "name": "stdout",
     "output_type": "stream",
     "text": [
      "New dict keys: dict_keys(['a', 'b', 'c', 'd'])\n"
     ]
    },
    {
     "data": {
      "application/vnd.microsoft.datawrangler.viewer.v0+json": {
       "columns": [
        {
         "name": "index",
         "rawType": "int64",
         "type": "integer"
        },
        {
         "name": "a",
         "rawType": "int64",
         "type": "integer"
        },
        {
         "name": "b",
         "rawType": "object",
         "type": "string"
        },
        {
         "name": "c",
         "rawType": "object",
         "type": "string"
        },
        {
         "name": "d",
         "rawType": "int64",
         "type": "integer"
        }
       ],
       "ref": "f628c6a0-5c54-4e50-8697-29232df60565",
       "rows": [
        [
         "0",
         "1985",
         "ATL",
         "NL",
         "550000"
        ],
        [
         "1",
         "1985",
         "ATL",
         "NL",
         "545000"
        ],
        [
         "2",
         "1985",
         "ATL",
         "NL",
         "633333"
        ],
        [
         "3",
         "1985",
         "ATL",
         "NL",
         "625000"
        ],
        [
         "4",
         "1985",
         "ATL",
         "NL",
         "800000"
        ],
        [
         "5",
         "1985",
         "ATL",
         "NL",
         "150000"
        ],
        [
         "6",
         "1985",
         "ATL",
         "NL",
         "483333"
        ],
        [
         "7",
         "1985",
         "ATL",
         "NL",
         "772000"
        ],
        [
         "8",
         "1985",
         "ATL",
         "NL",
         "250000"
        ],
        [
         "9",
         "1985",
         "ATL",
         "NL",
         "1500000"
        ],
        [
         "10",
         "1985",
         "ATL",
         "NL",
         "455000"
        ],
        [
         "11",
         "1985",
         "ATL",
         "NL",
         "407500"
        ],
        [
         "12",
         "1985",
         "ATL",
         "NL",
         "275000"
        ],
        [
         "13",
         "1985",
         "ATL",
         "NL",
         "775000"
        ],
        [
         "14",
         "1985",
         "ATL",
         "NL",
         "1625000"
        ],
        [
         "15",
         "1985",
         "ATL",
         "NL",
         "616667"
        ],
        [
         "16",
         "1985",
         "ATL",
         "NL",
         "450000"
        ],
        [
         "17",
         "1985",
         "ATL",
         "NL",
         "120000"
        ],
        [
         "18",
         "1985",
         "ATL",
         "NL",
         "750000"
        ],
        [
         "19",
         "1985",
         "ATL",
         "NL",
         "1354167"
        ],
        [
         "20",
         "1985",
         "ATL",
         "NL",
         "800000"
        ],
        [
         "21",
         "1985",
         "BAL",
         "AL",
         "625000"
        ],
        [
         "22",
         "1985",
         "BAL",
         "AL",
         "480000"
        ],
        [
         "23",
         "1985",
         "BAL",
         "AL",
         "437500"
        ],
        [
         "24",
         "1985",
         "BAL",
         "AL",
         "512500"
        ],
        [
         "25",
         "1985",
         "BAL",
         "AL",
         "375000"
        ],
        [
         "26",
         "1985",
         "BAL",
         "AL",
         "641667"
        ],
        [
         "27",
         "1985",
         "BAL",
         "AL",
         "450000"
        ],
        [
         "28",
         "1985",
         "BAL",
         "AL",
         "483333"
        ],
        [
         "29",
         "1985",
         "BAL",
         "AL",
         "725000"
        ],
        [
         "30",
         "1985",
         "BAL",
         "AL",
         "1090000"
        ],
        [
         "31",
         "1985",
         "BAL",
         "AL",
         "560000"
        ],
        [
         "32",
         "1985",
         "BAL",
         "AL",
         "440000"
        ],
        [
         "33",
         "1985",
         "BAL",
         "AL",
         "547143"
        ],
        [
         "34",
         "1985",
         "BAL",
         "AL",
         "1472819"
        ],
        [
         "35",
         "1985",
         "BAL",
         "AL",
         "341667"
        ],
        [
         "36",
         "1985",
         "BAL",
         "AL",
         "128500"
        ],
        [
         "37",
         "1985",
         "BAL",
         "AL",
         "800000"
        ],
        [
         "38",
         "1985",
         "BAL",
         "AL",
         "558333"
        ],
        [
         "39",
         "1985",
         "BAL",
         "AL",
         "60000"
        ],
        [
         "40",
         "1985",
         "BAL",
         "AL",
         "130000"
        ],
        [
         "41",
         "1985",
         "BAL",
         "AL",
         "581250"
        ],
        [
         "42",
         "1985",
         "BAL",
         "AL",
         "121000"
        ],
        [
         "43",
         "1985",
         "BOS",
         "AL",
         "915000"
        ],
        [
         "44",
         "1985",
         "BOS",
         "AL",
         "272500"
        ],
        [
         "45",
         "1985",
         "BOS",
         "AL",
         "1000000"
        ],
        [
         "46",
         "1985",
         "BOS",
         "AL",
         "115000"
        ],
        [
         "47",
         "1985",
         "BOS",
         "AL",
         "177500"
        ],
        [
         "48",
         "1985",
         "BOS",
         "AL",
         "747500"
        ],
        [
         "49",
         "1985",
         "BOS",
         "AL",
         "580000"
        ]
       ],
       "shape": {
        "columns": 4,
        "rows": 25574
       }
      },
      "text/html": [
       "<div>\n",
       "<style scoped>\n",
       "    .dataframe tbody tr th:only-of-type {\n",
       "        vertical-align: middle;\n",
       "    }\n",
       "\n",
       "    .dataframe tbody tr th {\n",
       "        vertical-align: top;\n",
       "    }\n",
       "\n",
       "    .dataframe thead th {\n",
       "        text-align: right;\n",
       "    }\n",
       "</style>\n",
       "<table border=\"1\" class=\"dataframe\">\n",
       "  <thead>\n",
       "    <tr style=\"text-align: right;\">\n",
       "      <th></th>\n",
       "      <th>a</th>\n",
       "      <th>b</th>\n",
       "      <th>c</th>\n",
       "      <th>d</th>\n",
       "    </tr>\n",
       "  </thead>\n",
       "  <tbody>\n",
       "    <tr>\n",
       "      <th>0</th>\n",
       "      <td>1985</td>\n",
       "      <td>ATL</td>\n",
       "      <td>NL</td>\n",
       "      <td>550000</td>\n",
       "    </tr>\n",
       "    <tr>\n",
       "      <th>1</th>\n",
       "      <td>1985</td>\n",
       "      <td>ATL</td>\n",
       "      <td>NL</td>\n",
       "      <td>545000</td>\n",
       "    </tr>\n",
       "    <tr>\n",
       "      <th>2</th>\n",
       "      <td>1985</td>\n",
       "      <td>ATL</td>\n",
       "      <td>NL</td>\n",
       "      <td>633333</td>\n",
       "    </tr>\n",
       "    <tr>\n",
       "      <th>3</th>\n",
       "      <td>1985</td>\n",
       "      <td>ATL</td>\n",
       "      <td>NL</td>\n",
       "      <td>625000</td>\n",
       "    </tr>\n",
       "    <tr>\n",
       "      <th>4</th>\n",
       "      <td>1985</td>\n",
       "      <td>ATL</td>\n",
       "      <td>NL</td>\n",
       "      <td>800000</td>\n",
       "    </tr>\n",
       "    <tr>\n",
       "      <th>...</th>\n",
       "      <td>...</td>\n",
       "      <td>...</td>\n",
       "      <td>...</td>\n",
       "      <td>...</td>\n",
       "    </tr>\n",
       "    <tr>\n",
       "      <th>25569</th>\n",
       "      <td>2015</td>\n",
       "      <td>WAS</td>\n",
       "      <td>NL</td>\n",
       "      <td>512800</td>\n",
       "    </tr>\n",
       "    <tr>\n",
       "      <th>25570</th>\n",
       "      <td>2015</td>\n",
       "      <td>WAS</td>\n",
       "      <td>NL</td>\n",
       "      <td>507500</td>\n",
       "    </tr>\n",
       "    <tr>\n",
       "      <th>25571</th>\n",
       "      <td>2015</td>\n",
       "      <td>WAS</td>\n",
       "      <td>NL</td>\n",
       "      <td>21000000</td>\n",
       "    </tr>\n",
       "    <tr>\n",
       "      <th>25572</th>\n",
       "      <td>2015</td>\n",
       "      <td>WAS</td>\n",
       "      <td>NL</td>\n",
       "      <td>16500000</td>\n",
       "    </tr>\n",
       "    <tr>\n",
       "      <th>25573</th>\n",
       "      <td>2015</td>\n",
       "      <td>WAS</td>\n",
       "      <td>NL</td>\n",
       "      <td>14000000</td>\n",
       "    </tr>\n",
       "  </tbody>\n",
       "</table>\n",
       "<p>25574 rows × 4 columns</p>\n",
       "</div>"
      ],
      "text/plain": [
       "          a    b   c         d\n",
       "0      1985  ATL  NL    550000\n",
       "1      1985  ATL  NL    545000\n",
       "2      1985  ATL  NL    633333\n",
       "3      1985  ATL  NL    625000\n",
       "4      1985  ATL  NL    800000\n",
       "...     ...  ...  ..       ...\n",
       "25569  2015  WAS  NL    512800\n",
       "25570  2015  WAS  NL    507500\n",
       "25571  2015  WAS  NL  21000000\n",
       "25572  2015  WAS  NL  16500000\n",
       "25573  2015  WAS  NL  14000000\n",
       "\n",
       "[25574 rows x 4 columns]"
      ]
     },
     "metadata": {},
     "output_type": "display_data"
    }
   ],
   "source": [
    "import string\n",
    "new_cols = list(string.ascii_lowercase[:len(data_dict)])\n",
    "old_keys = list(data_dict.keys())\n",
    "mapping = dict(zip(old_keys, new_cols))\n",
    "new_data_dict = dict(map(lambda kv: (mapping[kv[0]], kv[1]), data_dict.items()))\n",
    "print(\"New dict keys:\", new_data_dict.keys())\n",
    "df3 = pd.DataFrame(dict(map(lambda kv: (mapping[kv[0]], kv[1]), data_dict.items())))\n",
    "display(df3)\n",
    "\n"
   ]
  },
  {
   "cell_type": "markdown",
   "metadata": {},
   "source": [
    "### Numpy"
   ]
  },
  {
   "cell_type": "markdown",
   "metadata": {},
   "source": [
    "Quick start: https://www.numpy.org/devdocs/user/quickstart.html\n",
    "\n",
    "Numpy axes explaination: https://www.sharpsightlabs.com/blog/numpy-axes-explained/"
   ]
  },
  {
   "cell_type": "markdown",
   "metadata": {},
   "source": [
    "#### The np.array Method"
   ]
  },
  {
   "cell_type": "markdown",
   "metadata": {},
   "source": [
    "Example 1:\n",
    "\n",
    "```python\n",
    "ls = [1, 2, 3]\n",
    "arr = np.array(ls)\n",
    "```\n",
    "\n",
    "Example 2:\n",
    "```python\n",
    ">>> np.array([[1, 2], [3, 4]])\n",
    "array([[1, 2],\n",
    "       [3, 4]])\n",
    "```"
   ]
  },
  {
   "cell_type": "markdown",
   "metadata": {},
   "source": [
    "Now, create a 2-dimensional Python list object, then convert it to a Numpy array object."
   ]
  },
  {
   "cell_type": "code",
   "execution_count": 43,
   "metadata": {},
   "outputs": [
    {
     "name": "stdout",
     "output_type": "stream",
     "text": [
      "[[10 20 30]\n",
      " [40 50 60]]\n"
     ]
    }
   ],
   "source": [
    "py_list_2d = [[10,20,30],[40,50,60]]\n",
    "arr = np.array(py_list_2d)\n",
    "print(arr)"
   ]
  },
  {
   "cell_type": "markdown",
   "metadata": {},
   "source": [
    "#### ndarray Objects' Attributes"
   ]
  },
  {
   "cell_type": "markdown",
   "metadata": {},
   "source": [
    "Play with the **ndim, shape, size, dtype, itemsize and data** attribute.\n",
    "\n",
    "Example:\n",
    "\n",
    "```python\n",
    ">>> arr = np.array([[1, 2], [3, 4]])\n",
    ">>> arr.ndim\n",
    "2\n",
    "```"
   ]
  },
  {
   "cell_type": "code",
   "execution_count": 44,
   "metadata": {},
   "outputs": [
    {
     "name": "stdout",
     "output_type": "stream",
     "text": [
      "ndim: 2\n",
      "shape: (2, 3)\n",
      "size: 6\n",
      "dtype: int64\n",
      "itemsize: 8\n",
      "buffer: <memory at 0x121c1f780>\n",
      "[[[ 0  1  2  3]\n",
      "  [ 4  5  6  7]\n",
      "  [ 8  9 10 11]]\n",
      "\n",
      " [[12 13 14 15]\n",
      "  [16 17 18 19]\n",
      "  [20 21 22 23]]]\n"
     ]
    }
   ],
   "source": [
    "print(\"ndim:\", arr.ndim)\n",
    "print(\"shape:\", arr.shape)\n",
    "print(\"size:\", arr.size)\n",
    "print(\"dtype:\", arr.dtype)\n",
    "print(\"itemsize:\", arr.itemsize)\n",
    "print(\"buffer:\", arr.data)  \n",
    "arr2 = np.arange(2 * 3 * 4, dtype=np.int16).reshape((2, 3, 4))\n",
    "print(arr2)"
   ]
  },
  {
   "cell_type": "markdown",
   "metadata": {},
   "source": [
    "#### Dimension of ndarray Ojects"
   ]
  },
  {
   "cell_type": "markdown",
   "metadata": {},
   "source": [
    "Play with the reshape() and flatten() method.\n",
    "\n",
    "Example:\n",
    "```python\n",
    ">>> arr = np.array([[1, 2], [3, 4]])\n",
    ">>> arr.flatten()\n",
    "array([1, 2, 3, 4])\n",
    "```"
   ]
  },
  {
   "cell_type": "code",
   "execution_count": 45,
   "metadata": {},
   "outputs": [
    {
     "name": "stdout",
     "output_type": "stream",
     "text": [
      "flatten: [10 20 30 40 50 60]\n",
      "reshape:\n",
      "[[10 20]\n",
      " [30 40]\n",
      " [50 60]]\n"
     ]
    }
   ],
   "source": [
    "flat = arr.flatten()\n",
    "reshaped = arr.reshape(3,2)\n",
    "print(\"flatten:\", flat)\n",
    "print(\"reshape:\", reshaped, sep=\"\\n\")\n"
   ]
  },
  {
   "cell_type": "markdown",
   "metadata": {},
   "source": [
    "#### The Slice Operation of ndarray Objects"
   ]
  },
  {
   "cell_type": "markdown",
   "metadata": {},
   "source": [
    "Understand how the slice operation works for 1-D array and 2-D array.\n",
    "\n",
    "Example:\n",
    "\n",
    "```python\n",
    ">>> arr = np.array([[1, 2, 3], [3, 4, 6], [7, 8, 9]])\n",
    ">>> arr[1:]\n",
    "array([[3, 4, 6],\n",
    "       [7, 8, 9]])\n",
    ">>> arr[1:, 0:2]\n",
    "array([[3, 4],\n",
    "       [7, 8]])\n",
    "```"
   ]
  },
  {
   "cell_type": "code",
   "execution_count": 46,
   "metadata": {},
   "outputs": [
    {
     "name": "stdout",
     "output_type": "stream",
     "text": [
      "arr2[1:]:\n",
      " [[3 4 6]\n",
      " [7 8 9]]\n",
      "arr2[1:,0:2]:\n",
      " [[3 4]\n",
      " [7 8]]\n"
     ]
    }
   ],
   "source": [
    "arr2 = np.array([[1,2,3],[3,4,6],[7,8,9]])\n",
    "print(\"arr2[1:]:\\n\", arr2[1:])\n",
    "print(\"arr2[1:,0:2]:\\n\", arr2[1:,0:2])"
   ]
  },
  {
   "cell_type": "markdown",
   "metadata": {},
   "source": [
    "#### The Calculation of ndarray Objects"
   ]
  },
  {
   "cell_type": "markdown",
   "metadata": {},
   "source": [
    "Play with the **argmin(), argmax(), min(), max(), mean(), sum(), std(), dot(), square(), sqrt(), abs(). exp(), sign(), mod()** method.\n",
    "\n",
    "Example:\n",
    "\n",
    "```python\n",
    ">>> np.square(array)\n",
    "array([[ 1,  4,  9],\n",
    "       [ 9, 16, 36],\n",
    "       [49, 64, 81]])\n",
    "\n",
    "```"
   ]
  },
  {
   "cell_type": "code",
   "execution_count": 48,
   "metadata": {},
   "outputs": [
    {
     "name": "stdout",
     "output_type": "stream",
     "text": [
      "min/max/mean/sum/std: 1 9 4.777777777777778 43 2.657391276244755\n",
      "dot with itself:\n",
      " [[ 28  34  42]\n",
      " [ 57  70  87]\n",
      " [ 94 118 150]]\n",
      "square:\n",
      " [[ 1  4  9]\n",
      " [ 9 16 36]\n",
      " [49 64 81]]\n",
      "abs:\n",
      " [[1 2 3]\n",
      " [3 4 6]\n",
      " [7 8 9]]\n",
      "exp:\n",
      " [[2.71828183e+00 7.38905610e+00 2.00855369e+01]\n",
      " [2.00855369e+01 5.45981500e+01 4.03428793e+02]\n",
      " [1.09663316e+03 2.98095799e+03 8.10308393e+03]]\n",
      "sign:\n",
      " [[1 1 1]\n",
      " [1 1 1]\n",
      " [1 1 1]]\n",
      "mod 2:\n",
      " [[1 0 1]\n",
      " [1 0 0]\n",
      " [1 0 1]]\n"
     ]
    }
   ],
   "source": [
    "print(\"min/max/mean/sum/std:\", arr2.min(), arr2.max(), arr2.mean(), arr2.sum(), arr2.std())\n",
    "print(\"dot with itself:\\n\", np.dot(arr2, arr2))\n",
    "print(\"square:\\n\", np.square(arr2))\n",
    "print(\"abs:\\n\", np.abs(arr2))\n",
    "print(\"exp:\\n\", np.exp(arr2))\n",
    "print(\"sign:\\n\", np.sign(arr2))\n",
    "print(\"mod 2:\\n\", np.mod(arr2,2))"
   ]
  },
  {
   "cell_type": "markdown",
   "metadata": {},
   "source": [
    "#### Other Important Methods Inside Module Numpy"
   ]
  },
  {
   "cell_type": "markdown",
   "metadata": {},
   "source": [
    "Play with the arange(), ones(), zeros(), eye(), linspace(), concatenate() method.\n",
    "\n",
    "Example:\n",
    "\n",
    "```python\n",
    ">>> np.eye(3)\n",
    "array([[1., 0., 0.],\n",
    "       [0., 1., 0.],\n",
    "       [0., 0., 1.]])\n",
    "```"
   ]
  },
  {
   "cell_type": "code",
   "execution_count": 50,
   "metadata": {},
   "outputs": [
    {
     "name": "stdout",
     "output_type": "stream",
     "text": [
      "eye:\n",
      " [[1. 0. 0.]\n",
      " [0. 1. 0.]\n",
      " [0. 0. 1.]]\n",
      "linspace: [0.   0.25 0.5  0.75 1.  ]\n",
      "concatenate: [0 1 2 3 4 5]\n"
     ]
    }
   ],
   "source": [
    "print(\"eye:\\n\", np.eye(3))\n",
    "print(\"linspace:\", np.linspace(0,1,5))\n",
    "print(\"concatenate:\", np.concatenate([np.arange(3), np.arange(3,6)]))"
   ]
  },
  {
   "cell_type": "markdown",
   "metadata": {},
   "source": [
    "### Scikit-Learn"
   ]
  },
  {
   "cell_type": "markdown",
   "metadata": {},
   "source": [
    "The followings are packages (or methods) in Python (Scikit-Learn and Scipy) that will be frequently used in your programming assignment. So, please read carefully.\n",
    "\n",
    "- Data Preprocessing (https://scikit-learn.org/stable/modules/classes.html#module-sklearn.preprocessing)\n",
    "    - Standardization: StandardScaler\n",
    "    - Normalization: MinMaxScaler\n",
    "    - Quantifing Categorical Features: LabelEncoder. OneHotEncoder\n",
    "    - Construct Train and Test Set: model_selection.train_test_split\n",
    "- KNN: KNeighborsClassifier\n",
    "- Linear Regression: LinearRegression\n",
    "- Logistic Regression: LogisticRegression, LogisticRegressionCV\n",
    "- Feature Selection / Model Selection\n",
    "    - L1 Penalized Regression (Lasso Regression) with Cross-Validation: LassoCV\n",
    "    - L2 Penalized Regression (Ridge Regression) with Cross-Validation: RidgeCV\n",
    "    - Cross-Validation: StratifiedKFold, RepeatedKFold, LeaveOneOut, KFold, model_selection.cross_validate, model_selection.cross_val_predict, model_selection.cross_val_score\n",
    "    - Model Metrics (https://scikit-learn.org/stable/modules/classes.html#sklearn-metrics-metrics): accuracy_score, auc, f1_score, hamming_loss, precision_score, recall_score, roc_auc_score\n",
    "- Decision Tree: DecisionTreeClassifier, DecisionTreeRegressor\n",
    "- Bootstrap, Ensemble Methods\n",
    "    - Bootstrap: bootstrapped (https://pypi.org/project/bootstrapped/)\n",
    "    - Bagging: RandomForestClassifier, RandomForestRegressor\n",
    "    - Boosting: AdaBoostClassifier, AdaBoostRegressor\n",
    "- Support Vector Machines (https://scikit-learn.org/stable/modules/svm.html#svm): LinearSVC, LinearSVR\n",
    "- Multiclass and Multilabel Classification (https://scikit-learn.org/stable/modules/classes.html#module-sklearn.multiclass)\n",
    "    - One-vs-one Multiclass Strategy: OneVsOneClassifier\n",
    "    - One-vs-the-rest (OvR) multiclass/multilabel strategy / OneVsRestClassifier\n",
    "- Unsupervised Learning\n",
    "    - K-means Clustering: KMeans\n",
    "    - Hierarchical Clustering: scipy.cluster.hierarchy (not scikit-learn)\n",
    "- Semisupervised Learning (https://scikit-learn.org/stable/modules/label_propagation.html)"
   ]
  },
  {
   "cell_type": "markdown",
   "metadata": {},
   "source": [
    "### Matplotlib"
   ]
  },
  {
   "cell_type": "markdown",
   "metadata": {},
   "source": [
    "**Quick start:** https://matplotlib.org/3.1.1/tutorials/introductory/pyplot.html\n",
    "\n",
    "**Exercises:**"
   ]
  },
  {
   "cell_type": "markdown",
   "metadata": {},
   "source": [
    "(a) Create two one dimensional arrays x and y and plot y vs x, add title, xlabel, ylabel, grid.\n",
    "\n",
    "```python\n",
    "import numpy as np\n",
    "import matplotlib.pyplot as plt\n",
    "\n",
    "\n",
    "x = np.linspace(-5, 5, num=20)\n",
    "y = np.array([j ** 2 for j in x])\n",
    "```\n",
    "\n",
    "copy the code above to the following cell and add code for plotting the parabola."
   ]
  },
  {
   "cell_type": "code",
   "execution_count": 52,
   "metadata": {
    "ExecuteTime": {
     "end_time": "2020-01-08T10:38:20.467433Z",
     "start_time": "2020-01-08T10:38:20.462120Z"
    }
   },
   "outputs": [
    {
     "data": {
      "image/png": "[encoded data removed]",
      "text/plain": [
       "<Figure size 640x480 with 1 Axes>"
      ]
     },
     "metadata": {},
     "output_type": "display_data"
    }
   ],
   "source": [
    "import numpy as np\n",
    "import matplotlib.pyplot as plt\n",
    "\n",
    "\n",
    "x = np.linspace(-5, 5, num=20)\n",
    "y = np.array([j ** 2 for j in x])\n",
    "\n",
    "plt.plot(x,y)\n",
    "plt.title('y = x²')\n",
    "plt.xlabel('x')\n",
    "plt.ylabel('y')\n",
    "plt.grid(True)\n",
    "plt.show()\n"
   ]
  },
  {
   "cell_type": "markdown",
   "metadata": {
    "ExecuteTime": {
     "end_time": "2020-01-08T10:43:28.333944Z",
     "start_time": "2020-01-08T10:43:28.260989Z"
    }
   },
   "source": [
    "What happens if the independent variable is not sorted before plotting? Try plotting directly using the following defined array.\n",
    "\n",
    "```python\n",
    "import numpy as np\n",
    "import matplotlib.pyplot as plt\n",
    "\n",
    "\n",
    "x = np.linspace(-5, 5, num=20)\n",
    "np.random.shuffle(x)\n",
    "y = np.array([j ** 2 for j in x])\n",
    "```"
   ]
  },
  {
   "cell_type": "code",
   "execution_count": 54,
   "metadata": {},
   "outputs": [
    {
     "data": {
      "image/png": "[encoded data removed]",
      "text/plain": [
       "<Figure size 640x480 with 1 Axes>"
      ]
     },
     "metadata": {},
     "output_type": "display_data"
    }
   ],
   "source": [
    "import numpy as np\n",
    "import matplotlib.pyplot as plt\n",
    "\n",
    "\n",
    "x = np.linspace(-5, 5, num=20)\n",
    "np.random.shuffle(x)\n",
    "y = np.array([j ** 2 for j in x])\n",
    "plt.plot(x,y, marker='o')\n",
    "plt.title('y = x² with shuffled x')\n",
    "plt.xlabel('x (shuffled)')\n",
    "plt.ylabel('y')\n",
    "plt.grid(True)\n",
    "plt.show()"
   ]
  },
  {
   "cell_type": "markdown",
   "metadata": {},
   "source": [
    "(b) Create multiple arrays and plot them with different styles, add legends, add text/mathematical equations on the plot.\n",
    "\n",
    "```python\n",
    "import numpy as np\n",
    "import matplotlib.pyplot as plt\n",
    "\n",
    "\n",
    "x = np.linspace(-5, 5, num=20)\n",
    "y1 = np.array([j for j in x])\n",
    "y2 = np.array([j ** 2 for j in x])\n",
    "y3 = np.array([j ** 3 for j in x])\n",
    "```\n",
    "\n",
    "copy the code above to the following cell and add code for plotting curve $\\left(x, y1\\right)$, $\\left(x, y2\\right)$ and $\\left(x, y3\\right)$."
   ]
  },
  {
   "cell_type": "code",
   "execution_count": 56,
   "metadata": {},
   "outputs": [
    {
     "data": {
      "image/png": "[encoded data removed]",
      "text/plain": [
       "<Figure size 640x480 with 1 Axes>"
      ]
     },
     "metadata": {},
     "output_type": "display_data"
    }
   ],
   "source": [
    "import numpy as np\n",
    "import matplotlib.pyplot as plt\n",
    "\n",
    "\n",
    "x = np.linspace(-5, 5, num=20)\n",
    "y1 = np.array([j for j in x])\n",
    "y2 = np.array([j ** 2 for j in x])\n",
    "y3 = np.array([j ** 3 for j in x])\n",
    "\n",
    "plt.plot(x, y1, label='y = x')\n",
    "plt.plot(x, y2, label='y = x²')\n",
    "plt.plot(x, y3, label='y = x³')\n",
    "plt.legend()\n",
    "plt.text(0,50, r'$y = x^2$', fontsize=12)\n",
    "plt.title('Three polynomial curves')\n",
    "plt.xlabel('x')\n",
    "plt.ylabel('y')\n",
    "plt.grid(True)\n",
    "plt.show()"
   ]
  },
  {
   "cell_type": "markdown",
   "metadata": {},
   "source": [
    "(c) Create multiple arrays and plot them into one figure **(No multiple figure and no subplot is allowed in this question)**.\n",
    "\n",
    "```python\n",
    "import numpy as np\n",
    "import matplotlib.pyplot as plt\n",
    "\n",
    "\n",
    "x = np.linspace(-5, 5, num=20)\n",
    "y1 = np.array([j for j in x])\n",
    "y2 = np.array([j ** 2 for j in x])\n",
    "y3 = np.array([j ** 3 for j in x])\n",
    "```\n",
    "\n",
    "copy the code above to the following cell and add code for plotting curve $\\left(x, y1\\right)$, $\\left(x, y2\\right)$ and $\\left(x, y3\\right)$."
   ]
  },
  {
   "cell_type": "code",
   "execution_count": null,
   "metadata": {},
   "outputs": [
    {
     "data": {
      "image/png": "[encoded data removed]",
      "text/plain": [
       "<Figure size 640x480 with 1 Axes>"
      ]
     },
     "metadata": {},
     "output_type": "display_data"
    }
   ],
   "source": [
    "\n",
    "import numpy as np\n",
    "import matplotlib.pyplot as plt\n",
    "\n",
    "x = np.linspace(-5, 5, num=20)\n",
    "y1 = np.array([j for j in x])\n",
    "y2 = np.array([j ** 2 for j in x])\n",
    "y3 = np.array([j ** 3 for j in x])\n",
    "plt.plot(x, y1, label='y = x')\n",
    "plt.plot(x, y2, label='y = x²')\n",
    "plt.plot(x, y3, label='y = x³')\n",
    "plt.legend()\n",
    "plt.title('Multiple Curves in One Figure')\n",
    "plt.xlabel('x')\n",
    "plt.ylabel('y')\n",
    "plt.grid(True)\n",
    "plt.show()"
   ]
  },
  {
   "cell_type": "markdown",
   "metadata": {},
   "source": [
    "(d) Create multiple subplots, play around with the figure size, figure title, and its font style and font size **(One curve is plotted in one subplot in this question)**.\n",
    "\n",
    "```python\n",
    "import numpy as np\n",
    "import matplotlib.pyplot as plt\n",
    "\n",
    "\n",
    "x = np.linspace(-5, 5, num=20)\n",
    "y1 = np.array([j for j in x])\n",
    "y2 = np.array([j ** 2 for j in x])\n",
    "y3 = np.array([j ** 3 for j in x])\n",
    "```\n",
    "\n",
    "copy the code above to the following cell and add code for plotting curve $\\left(x, y1\\right)$, $\\left(x, y2\\right)$ and $\\left(x, y3\\right)$."
   ]
  },
  {
   "cell_type": "code",
   "execution_count": null,
   "metadata": {},
   "outputs": [],
   "source": []
  },
  {
   "cell_type": "markdown",
   "metadata": {},
   "source": [
    "(e) Change the limits on x and y axes, **use logarithmic axes to plot**.\n",
    "\n",
    "```python\n",
    "import numpy as np\n",
    "import matplotlib.pyplot as plt\n",
    "\n",
    "\n",
    "x = np.linspace(-5, 5, num=20)\n",
    "y = np.array([j ** 2 for j in x])\n",
    "```\n",
    "\n",
    "copy the code above to the following cell and add code for plotting the parabola."
   ]
  },
  {
   "cell_type": "code",
   "execution_count": null,
   "metadata": {},
   "outputs": [],
   "source": []
  },
  {
   "cell_type": "markdown",
   "metadata": {},
   "source": [
    "### Pandas's DataFrame.plot and Seaborn"
   ]
  },
  {
   "cell_type": "markdown",
   "metadata": {},
   "source": [
    "#### Pandas's DataFrame.plot\n",
    "\n",
    "Use the Salaries.csv again (You can use the dataframe object loaded from section 3.1)."
   ]
  },
  {
   "cell_type": "markdown",
   "metadata": {},
   "source": [
    "(a) For team 'ATL', plot a scatter plot between feature yearID and salary."
   ]
  },
  {
   "cell_type": "code",
   "execution_count": null,
   "metadata": {},
   "outputs": [],
   "source": []
  },
  {
   "cell_type": "markdown",
   "metadata": {},
   "source": [
    "(b) For year 1985, plot a bar chart to show the average salary for each team."
   ]
  },
  {
   "cell_type": "code",
   "execution_count": null,
   "metadata": {},
   "outputs": [],
   "source": []
  },
  {
   "cell_type": "markdown",
   "metadata": {},
   "source": [
    "(c) For team 'ATL', plot a line chart to show how the annual average salary change by years."
   ]
  },
  {
   "cell_type": "code",
   "execution_count": null,
   "metadata": {},
   "outputs": [],
   "source": []
  },
  {
   "cell_type": "markdown",
   "metadata": {},
   "source": [
    "#### Seaborn"
   ]
  },
  {
   "cell_type": "markdown",
   "metadata": {},
   "source": [
    "(a) Append one more numeric feature to the data frame (can be generated randomly), then for team 'ATL', use the seaborn.pairplot to plot scatter plots among all numeric features in the data frame for team. "
   ]
  },
  {
   "cell_type": "code",
   "execution_count": null,
   "metadata": {},
   "outputs": [],
   "source": []
  },
  {
   "cell_type": "markdown",
   "metadata": {},
   "source": [
    "(b) For year 1985 and for each team, plot a boxplot to show how the salary distribute within a team."
   ]
  },
  {
   "cell_type": "code",
   "execution_count": null,
   "metadata": {},
   "outputs": [],
   "source": []
  },
  {
   "cell_type": "markdown",
   "metadata": {},
   "source": [
    "(c) Read the offical documentation (https://seaborn.pydata.org/) to understand how lmplot, catplot, relplot, and jointplot works."
   ]
  },
  {
   "cell_type": "markdown",
   "metadata": {},
   "source": [
    "### Jupyter Notebook"
   ]
  },
  {
   "cell_type": "markdown",
   "metadata": {},
   "source": [
    "#### Jupyter Notebook Extensions"
   ]
  },
  {
   "cell_type": "markdown",
   "metadata": {},
   "source": [
    "Extensions such as the code formatter, table of content is to make your development more efficient. To explore it, please refer to https://github.com/ipython-contrib/jupyter_contrib_nbextensions."
   ]
  },
  {
   "cell_type": "markdown",
   "metadata": {},
   "source": [
    "#### Jupyter Visual Debugger"
   ]
  },
  {
   "cell_type": "markdown",
   "metadata": {},
   "source": [
    "The Pixie Debugger is a visual debugger for debugging on Jupyter Notebook. To explore it, please refer to https://medium.com/codait/the-visual-python-debugger-for-jupyter-notebooks-youve-always-wanted-761713babc62."
   ]
  },
  {
   "cell_type": "markdown",
   "metadata": {},
   "source": [
    "### Git and GitHub"
   ]
  },
  {
   "cell_type": "markdown",
   "metadata": {},
   "source": [
    "1. In the directory that where this jupyter notebook file locates in, init a Git repository.\n",
    "2. Checkout a new branch called dev and commit the current notebook within this branch.\n",
    "3. Merge the dev branch to the master branch (the default branch).\n",
    "4. Create a temporary repository (just for practicing and you can delete it later) in GitHub. \n",
    "5. Push new changes in the master branch to the remote repository created in step 4.\n",
    "6. Checkout the dev branch again and do some changes to your notebook, and then repeat step 3 and step 5."
   ]
  },
  {
   "cell_type": "code",
   "execution_count": null,
   "metadata": {},
   "outputs": [],
   "source": []
  },
  {
   "cell_type": "code",
   "execution_count": null,
   "metadata": {},
   "outputs": [],
   "source": []
  },
  {
   "cell_type": "code",
   "execution_count": null,
   "metadata": {},
   "outputs": [],
   "source": []
  },
  {
   "cell_type": "code",
   "execution_count": null,
   "metadata": {},
   "outputs": [],
   "source": []
  },
  {
   "cell_type": "code",
   "execution_count": null,
   "metadata": {},
   "outputs": [],
   "source": []
  }
 ],
 "metadata": {
  "kernelspec": {
   "display_name": ".venv",
   "language": "python",
   "name": "python3"
  },
  "language_info": {
   "codemirror_mode": {
    "name": "ipython",
    "version": 3
   },
   "file_extension": ".py",
   "mimetype": "text/x-python",
   "name": "python",
   "nbconvert_exporter": "python",
   "pygments_lexer": "ipython3",
   "version": "3.11.11"
  },
  "toc": {
   "base_numbering": 1,
   "nav_menu": {},
   "number_sections": true,
   "sideBar": true,
   "skip_h1_title": true,
   "title_cell": "Table of Contents",
   "title_sidebar": "Contents",
   "toc_cell": false,
   "toc_position": {
    "height": "calc(100% - 180px)",
    "left": "10px",
    "top": "150px",
    "width": "294.435px"
   },
   "toc_section_display": true,
   "toc_window_display": true
  }
 },
 "nbformat": 4,
 "nbformat_minor": 2
}
